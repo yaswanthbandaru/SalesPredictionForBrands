{
 "cells": [
  {
   "cell_type": "markdown",
   "source": [
    "# Prediction of Sales of cold drinks\n",
    "\n",
    "We are required to predict the sales of six cold drink brands."
   ],
   "metadata": {}
  },
  {
   "cell_type": "markdown",
   "source": [
    "## Data \n",
    "\n",
    "Data of sales for July 2021 is given. We need to predict the day-wise sales for Augest 2021."
   ],
   "metadata": {}
  },
  {
   "cell_type": "code",
   "execution_count": 1,
   "source": [
    "# Load libraries\n",
    "import numpy as np\n",
    "import pandas as pd\n",
    "import matplotlib.pyplot as plt\n",
    "import seaborn as sns"
   ],
   "outputs": [],
   "metadata": {}
  },
  {
   "cell_type": "code",
   "execution_count": 2,
   "source": [
    "data = pd.read_csv('SalesDataProductWise.xlsx-Sheet1.csv')\n",
    "data.head(10)"
   ],
   "outputs": [
    {
     "output_type": "execute_result",
     "data": {
      "text/html": [
       "<div>\n",
       "<style scoped>\n",
       "    .dataframe tbody tr th:only-of-type {\n",
       "        vertical-align: middle;\n",
       "    }\n",
       "\n",
       "    .dataframe tbody tr th {\n",
       "        vertical-align: top;\n",
       "    }\n",
       "\n",
       "    .dataframe thead th {\n",
       "        text-align: right;\n",
       "    }\n",
       "</style>\n",
       "<table border=\"1\" class=\"dataframe\">\n",
       "  <thead>\n",
       "    <tr style=\"text-align: right;\">\n",
       "      <th></th>\n",
       "      <th>Transaction_date</th>\n",
       "      <th>Brand Name</th>\n",
       "      <th>Sales Value</th>\n",
       "    </tr>\n",
       "  </thead>\n",
       "  <tbody>\n",
       "    <tr>\n",
       "      <th>0</th>\n",
       "      <td>2018-01-01</td>\n",
       "      <td>Coca Cola</td>\n",
       "      <td>3480.30</td>\n",
       "    </tr>\n",
       "    <tr>\n",
       "      <th>1</th>\n",
       "      <td>2018-01-01</td>\n",
       "      <td>Thums Up</td>\n",
       "      <td>991.30</td>\n",
       "    </tr>\n",
       "    <tr>\n",
       "      <th>2</th>\n",
       "      <td>2018-01-01</td>\n",
       "      <td>Mirinda</td>\n",
       "      <td>4169.45</td>\n",
       "    </tr>\n",
       "    <tr>\n",
       "      <th>3</th>\n",
       "      <td>2018-01-01</td>\n",
       "      <td>Fanta</td>\n",
       "      <td>726.75</td>\n",
       "    </tr>\n",
       "    <tr>\n",
       "      <th>4</th>\n",
       "      <td>2018-01-01</td>\n",
       "      <td>Mountain Dew</td>\n",
       "      <td>484.25</td>\n",
       "    </tr>\n",
       "    <tr>\n",
       "      <th>5</th>\n",
       "      <td>2018-01-02</td>\n",
       "      <td>Coca Cola</td>\n",
       "      <td>9234.35</td>\n",
       "    </tr>\n",
       "    <tr>\n",
       "      <th>6</th>\n",
       "      <td>2018-01-02</td>\n",
       "      <td>Thums Up</td>\n",
       "      <td>1237.20</td>\n",
       "    </tr>\n",
       "    <tr>\n",
       "      <th>7</th>\n",
       "      <td>2018-01-02</td>\n",
       "      <td>Mirinda</td>\n",
       "      <td>3075.25</td>\n",
       "    </tr>\n",
       "    <tr>\n",
       "      <th>8</th>\n",
       "      <td>2018-01-02</td>\n",
       "      <td>Fanta</td>\n",
       "      <td>1572.25</td>\n",
       "    </tr>\n",
       "    <tr>\n",
       "      <th>9</th>\n",
       "      <td>2018-01-02</td>\n",
       "      <td>Sprite</td>\n",
       "      <td>41.00</td>\n",
       "    </tr>\n",
       "  </tbody>\n",
       "</table>\n",
       "</div>"
      ],
      "text/plain": [
       "  Transaction_date    Brand Name  Sales Value\n",
       "0       2018-01-01     Coca Cola      3480.30\n",
       "1       2018-01-01      Thums Up       991.30\n",
       "2       2018-01-01       Mirinda      4169.45\n",
       "3       2018-01-01         Fanta       726.75\n",
       "4       2018-01-01  Mountain Dew       484.25\n",
       "5       2018-01-02     Coca Cola      9234.35\n",
       "6       2018-01-02      Thums Up      1237.20\n",
       "7       2018-01-02       Mirinda      3075.25\n",
       "8       2018-01-02         Fanta      1572.25\n",
       "9       2018-01-02        Sprite        41.00"
      ]
     },
     "metadata": {},
     "execution_count": 2
    }
   ],
   "metadata": {}
  },
  {
   "cell_type": "code",
   "execution_count": 3,
   "source": [
    "print(data.nunique())\n",
    "print('*********************************************')\n",
    "print(data.info())\n",
    "print('*********************************************')\n",
    "print(data.describe())\n",
    "print('*********************************************')\n"
   ],
   "outputs": [
    {
     "output_type": "stream",
     "name": "stdout",
     "text": [
      "Transaction_date    1287\n",
      "Brand Name             6\n",
      "Sales Value         6654\n",
      "dtype: int64\n",
      "*********************************************\n",
      "<class 'pandas.core.frame.DataFrame'>\n",
      "RangeIndex: 7418 entries, 0 to 7417\n",
      "Data columns (total 3 columns):\n",
      " #   Column            Non-Null Count  Dtype  \n",
      "---  ------            --------------  -----  \n",
      " 0   Transaction_date  7418 non-null   object \n",
      " 1   Brand Name        7418 non-null   object \n",
      " 2   Sales Value       7418 non-null   float64\n",
      "dtypes: float64(1), object(2)\n",
      "memory usage: 174.0+ KB\n",
      "None\n",
      "*********************************************\n",
      "         Sales Value\n",
      "count    7418.000000\n",
      "mean     4860.019402\n",
      "std      9004.438471\n",
      "min         0.200000\n",
      "25%       762.525000\n",
      "50%      2030.175000\n",
      "75%      5702.216250\n",
      "max    282293.280000\n",
      "*********************************************\n"
     ]
    }
   ],
   "metadata": {}
  },
  {
   "cell_type": "markdown",
   "source": [
    "Data has 3 columns: **'Transaction_date', 'Brand Name', 'Sales Value'**\n",
    "\n",
    "Total no of sales: 6654\n",
    "\n",
    "Number of Brands: 6 "
   ],
   "metadata": {}
  },
  {
   "cell_type": "code",
   "execution_count": 4,
   "source": [
    "sns.heatmap(data.isnull())"
   ],
   "outputs": [
    {
     "output_type": "execute_result",
     "data": {
      "text/plain": [
       "<AxesSubplot:>"
      ]
     },
     "metadata": {},
     "execution_count": 4
    },
    {
     "output_type": "display_data",
     "data": {
      "image/png": "[encoded data removed]",
      "text/plain": [
       "<Figure size 432x288 with 2 Axes>"
      ]
     },
     "metadata": {
      "needs_background": "light"
     }
    }
   ],
   "metadata": {}
  },
  {
   "cell_type": "code",
   "execution_count": 5,
   "source": [
    "data['Brand Name'].unique()"
   ],
   "outputs": [
    {
     "output_type": "execute_result",
     "data": {
      "text/plain": [
       "array(['Coca Cola', 'Thums Up', 'Mirinda', 'Fanta', 'Mountain Dew',\n",
       "       'Sprite'], dtype=object)"
      ]
     },
     "metadata": {},
     "execution_count": 5
    }
   ],
   "metadata": {}
  },
  {
   "cell_type": "code",
   "execution_count": 6,
   "source": [
    "for brand in data['Brand Name'].unique():\n",
    "    df = data[data['Brand Name'] == brand]\n",
    "    print()"
   ],
   "outputs": [
    {
     "output_type": "stream",
     "name": "stdout",
     "text": [
      "\n",
      "\n",
      "\n",
      "\n",
      "\n",
      "\n"
     ]
    }
   ],
   "metadata": {}
  },
  {
   "cell_type": "code",
   "execution_count": 7,
   "source": [
    "DataFrame = data[data[\"Brand Name\"] == \"Fanta\"]\n",
    "DataFrame"
   ],
   "outputs": [
    {
     "output_type": "execute_result",
     "data": {
      "text/html": [
       "<div>\n",
       "<style scoped>\n",
       "    .dataframe tbody tr th:only-of-type {\n",
       "        vertical-align: middle;\n",
       "    }\n",
       "\n",
       "    .dataframe tbody tr th {\n",
       "        vertical-align: top;\n",
       "    }\n",
       "\n",
       "    .dataframe thead th {\n",
       "        text-align: right;\n",
       "    }\n",
       "</style>\n",
       "<table border=\"1\" class=\"dataframe\">\n",
       "  <thead>\n",
       "    <tr style=\"text-align: right;\">\n",
       "      <th></th>\n",
       "      <th>Transaction_date</th>\n",
       "      <th>Brand Name</th>\n",
       "      <th>Sales Value</th>\n",
       "    </tr>\n",
       "  </thead>\n",
       "  <tbody>\n",
       "    <tr>\n",
       "      <th>3</th>\n",
       "      <td>2018-01-01</td>\n",
       "      <td>Fanta</td>\n",
       "      <td>726.75</td>\n",
       "    </tr>\n",
       "    <tr>\n",
       "      <th>8</th>\n",
       "      <td>2018-01-02</td>\n",
       "      <td>Fanta</td>\n",
       "      <td>1572.25</td>\n",
       "    </tr>\n",
       "    <tr>\n",
       "      <th>14</th>\n",
       "      <td>2018-01-03</td>\n",
       "      <td>Fanta</td>\n",
       "      <td>1118.50</td>\n",
       "    </tr>\n",
       "    <tr>\n",
       "      <th>20</th>\n",
       "      <td>2018-01-04</td>\n",
       "      <td>Fanta</td>\n",
       "      <td>1318.75</td>\n",
       "    </tr>\n",
       "    <tr>\n",
       "      <th>26</th>\n",
       "      <td>2018-01-05</td>\n",
       "      <td>Fanta</td>\n",
       "      <td>1157.25</td>\n",
       "    </tr>\n",
       "    <tr>\n",
       "      <th>...</th>\n",
       "      <td>...</td>\n",
       "      <td>...</td>\n",
       "      <td>...</td>\n",
       "    </tr>\n",
       "    <tr>\n",
       "      <th>7391</th>\n",
       "      <td>2021-07-27</td>\n",
       "      <td>Fanta</td>\n",
       "      <td>3210.15</td>\n",
       "    </tr>\n",
       "    <tr>\n",
       "      <th>7397</th>\n",
       "      <td>2021-07-28</td>\n",
       "      <td>Fanta</td>\n",
       "      <td>2932.40</td>\n",
       "    </tr>\n",
       "    <tr>\n",
       "      <th>7403</th>\n",
       "      <td>2021-07-29</td>\n",
       "      <td>Fanta</td>\n",
       "      <td>2949.40</td>\n",
       "    </tr>\n",
       "    <tr>\n",
       "      <th>7409</th>\n",
       "      <td>2021-07-30</td>\n",
       "      <td>Fanta</td>\n",
       "      <td>3000.10</td>\n",
       "    </tr>\n",
       "    <tr>\n",
       "      <th>7415</th>\n",
       "      <td>2021-07-31</td>\n",
       "      <td>Fanta</td>\n",
       "      <td>2339.35</td>\n",
       "    </tr>\n",
       "  </tbody>\n",
       "</table>\n",
       "<p>1271 rows × 3 columns</p>\n",
       "</div>"
      ],
      "text/plain": [
       "     Transaction_date Brand Name  Sales Value\n",
       "3          2018-01-01      Fanta       726.75\n",
       "8          2018-01-02      Fanta      1572.25\n",
       "14         2018-01-03      Fanta      1118.50\n",
       "20         2018-01-04      Fanta      1318.75\n",
       "26         2018-01-05      Fanta      1157.25\n",
       "...               ...        ...          ...\n",
       "7391       2021-07-27      Fanta      3210.15\n",
       "7397       2021-07-28      Fanta      2932.40\n",
       "7403       2021-07-29      Fanta      2949.40\n",
       "7409       2021-07-30      Fanta      3000.10\n",
       "7415       2021-07-31      Fanta      2339.35\n",
       "\n",
       "[1271 rows x 3 columns]"
      ]
     },
     "metadata": {},
     "execution_count": 7
    }
   ],
   "metadata": {}
  },
  {
   "cell_type": "code",
   "execution_count": null,
   "source": [],
   "outputs": [],
   "metadata": {}
  }
 ],
 "metadata": {
  "interpreter": {
   "hash": "31f2aee4e71d21fbe5cf8b01ff0e069b9275f58929596ceb00d14d90e3e16cd6"
  },
  "kernelspec": {
   "name": "python3",
   "display_name": "Python 3.6.9 64-bit"
  },
  "language_info": {
   "name": "python",
   "version": "3.6.9",
   "mimetype": "text/x-python",
   "codemirror_mode": {
    "name": "ipython",
    "version": 3
   },
   "pygments_lexer": "ipython3",
   "nbconvert_exporter": "python",
   "file_extension": ".py"
  }
 },
 "nbformat": 4,
 "nbformat_minor": 2
}